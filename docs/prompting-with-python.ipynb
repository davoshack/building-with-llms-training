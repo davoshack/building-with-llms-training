{
 "cells": [
  {
   "cell_type": "markdown",
   "id": "f2fd7a32",
   "metadata": {},
   "source": [
    "# Prompting from Python\n",
    "\n",
    "LLM is also [a Python library](https://llm.datasette.io/en/latest/python-api.html). Let's run a prompt from Python:\n"
   ]
  },
  {
   "cell_type": "code",
   "execution_count": null,
   "id": "482204ac",
   "metadata": {},
   "outputs": [],
   "source": [
    "import llm\n",
    "model = llm.get_model(\"gpt-4.1-mini\")\n",
    "response = model.prompt(\n",
    "    \"A joke about a walrus who lost his shoes\"\n",
    ")\n",
    "print(response.text())"
   ]
  },
  {
   "cell_type": "markdown",
   "id": "e39fed2f",
   "metadata": {},
   "source": [
    "LLM defaults to picking up keys you have already configured. You can pass an explicit API key using the `key=` argument like this:\n"
   ]
  },
  {
   "cell_type": "code",
   "execution_count": null,
   "id": "81ae4e0a",
   "metadata": {},
   "outputs": [],
   "source": [
    "response = model.prompt(\"Say hi\", key=\"sk-...\")"
   ]
  },
  {
   "cell_type": "markdown",
   "id": "c4974d8d",
   "metadata": {},
   "source": [
    "## Streaming\n",
    "\n",
    "You can stream responses in Python like this:"
   ]
  },
  {
   "cell_type": "code",
   "execution_count": null,
   "id": "97453038",
   "metadata": {},
   "outputs": [],
   "source": [
    "for chunk in model.prompt(\n",
    "    \"A joke about a pelican who rides a bicycle\",\n",
    "    stream=True\n",
    "):\n",
    "    print(chunk, end=\"\", flush=True)"
   ]
  },
  {
   "cell_type": "markdown",
   "id": "591eed02",
   "metadata": {},
   "source": [
    "## Using attachments\n",
    "\n",
    "Use `llm.Attachment` to attach files to your prompt:"
   ]
  },
  {
   "cell_type": "code",
   "execution_count": null,
   "id": "cfbad28b",
   "metadata": {},
   "outputs": [],
   "source": [
    "response = model.prompt(\n",
    "    \"Describe this image\",\n",
    "    attachments=[\n",
    "        llm.Attachment(\n",
    "            path=\"../docs/two-pelicans.jpg\",\n",
    "        )\n",
    "    ]\n",
    ")\n",
    "print(response.text())"
   ]
  },
  {
   "cell_type": "markdown",
   "id": "184ed1cc",
   "metadata": {},
   "source": [
    "## Using system prompts\n",
    "\n",
    "System prompts become particularly important once you start building applications on top of LLMs.\n",
    "\n",
    "Let's write a function to translate English to Spanish:"
   ]
  },
  {
   "cell_type": "code",
   "execution_count": null,
   "id": "886a4af6",
   "metadata": {},
   "outputs": [],
   "source": [
    "def translate_to_spanish(text):\n",
    "    model = llm.get_model(\"gpt-4.1-mini\")\n",
    "    response = model.prompt(\n",
    "        text,\n",
    "        system=\"Translate this to Spanish\"\n",
    "    )\n",
    "    return response.text()\n",
    "\n",
    "# And try it out:\n",
    "print(translate_to_spanish(\"What is the best thing about a pelican?\"))"
   ]
  },
  {
   "cell_type": "markdown",
   "id": "6bc48f64",
   "metadata": {},
   "source": [
    "## Async support\n",
    "\n",
    "LLM offers [async support](https://llm.datasette.io/en/latest/python-api.html#async-models) as well. We won't discuss that in detail here, but this is a quick taster:"
   ]
  },
  {
   "cell_type": "code",
   "execution_count": null,
   "id": "a6d01013",
   "metadata": {},
   "outputs": [],
   "source": [
    "import asyncio\n",
    "import llm\n",
    "\n",
    "model = llm.get_async_model(\"gpt-4.1-mini\")\n",
    "async def main():\n",
    "    response = model.prompt(\n",
    "        \"A joke about a walrus who lost his shoes\"\n",
    "    )\n",
    "    async for chunk in response:\n",
    "        print(chunk, end=\"\", flush=True)\n",
    "    print(await response.text())\n",
    "\n",
    "asyncio.run(main())"
   ]
  }
 ],
 "metadata": {
  "kernelspec": {
   "display_name": "building-software-on-top-of-llm",
   "language": "python",
   "name": "python3"
  },
  "language_info": {
   "codemirror_mode": {
    "name": "ipython",
    "version": 3
   },
   "file_extension": ".py",
   "mimetype": "text/x-python",
   "name": "python",
   "nbconvert_exporter": "python",
   "pygments_lexer": "ipython3",
   "version": "3.12.0"
  }
 },
 "nbformat": 4,
 "nbformat_minor": 5
}
