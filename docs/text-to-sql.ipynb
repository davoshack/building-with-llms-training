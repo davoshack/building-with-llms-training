{
 "cells": [
  {
   "cell_type": "markdown",
   "id": "f39f88e3",
   "metadata": {},
   "source": [
    "## Turning that into a Python function\n",
    "\n",
    "Let's upgrade our hacky CLI prototype into a Python function."
   ]
  },
  {
   "cell_type": "code",
   "execution_count": 3,
   "id": "6abcf8ba",
   "metadata": {},
   "outputs": [
    {
     "name": "stdout",
     "output_type": "stream",
     "text": [
      "SELECT COUNT(*) AS conversation_count FROM conversations;\n",
      "[{'conversation_count': 10}]\n"
     ]
    }
   ],
   "source": [
    "import sqlite_utils\n",
    "import llm\n",
    "\n",
    "model = llm.get_model(\"gpt-4.1-mini\")\n",
    "\n",
    "def text_to_sql(db: sqlite_utils.Database, question: str) -> str:\n",
    "    \"\"\"Convert a prompt to SQL using the LLM.\"\"\"\n",
    "    prompt = \"Schema:\\n\\n{}\\n\\nQuestion:\\n\\n{}\".format(\n",
    "        db.schema, question\n",
    "    )\n",
    "    return model.prompt(\n",
    "        prompt,\n",
    "        system=\"reply with SQLite SQL, not in markdown, just the SQL\",\n",
    "    ).text()\n",
    "\n",
    "db = sqlite_utils.Database(llm.user_dir() / \"logs.db\")\n",
    "\n",
    "sql = text_to_sql(db, \"how many conversations are there?\")\n",
    "\n",
    "print(sql)\n",
    "\n",
    "# Now execute it\n",
    "result = db.query(sql)\n",
    "print(list(result))"
   ]
  },
  {
   "cell_type": "markdown",
   "id": "18b9d830",
   "metadata": {},
   "source": [
    "## Upgrading that to a CLI tool\n",
    "\n",
    "Now that we have this working, let's turn it into a small CLI tool using `argparse` from the Python standard library:\n",
    "[see file here](cli_small_tool.py)\n",
    "\n",
    "```bash\n",
    "python cli_small_tool.py\n",
    "```"
   ]
  }
 ],
 "metadata": {
  "kernelspec": {
   "display_name": "building-software-on-top-of-llm",
   "language": "python",
   "name": "python3"
  },
  "language_info": {
   "codemirror_mode": {
    "name": "ipython",
    "version": 3
   },
   "file_extension": ".py",
   "mimetype": "text/x-python",
   "name": "python",
   "nbconvert_exporter": "python",
   "pygments_lexer": "ipython3",
   "version": "3.12.0"
  }
 },
 "nbformat": 4,
 "nbformat_minor": 5
}
